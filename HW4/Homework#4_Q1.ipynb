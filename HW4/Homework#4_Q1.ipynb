{
 "cells": [
  {
   "cell_type": "code",
   "execution_count": 14,
   "metadata": {
    "collapsed": false
   },
   "outputs": [
    {
     "name": "stdout",
     "output_type": "stream",
     "text": [
      "Populating the interactive namespace from numpy and matplotlib\n"
     ]
    },
    {
     "name": "stderr",
     "output_type": "stream",
     "text": [
      "WARNING: pylab import has clobbered these variables: ['datetime']\n",
      "`%matplotlib` prevents importing * from pylab and numpy\n"
     ]
    }
   ],
   "source": [
    "#import required libraries\n",
    "import pylab as pl\n",
    "import pandas as pd\n",
    "import numpy as np\n",
    "%pylab inline\n",
    "\n",
    "import os"
   ]
  },
  {
   "cell_type": "code",
   "execution_count": 15,
   "metadata": {
    "collapsed": false
   },
   "outputs": [
    {
     "name": "stdout",
     "output_type": "stream",
     "text": [
      "Index([u'tripduration', u'starttime', u'stoptime', u'start station id',\n",
      "       u'start station name', u'start station latitude',\n",
      "       u'start station longitude', u'end station id', u'end station name',\n",
      "       u'end station latitude', u'end station longitude', u'bikeid',\n",
      "       u'usertype', u'birth year', u'gender'],\n",
      "      dtype='object')\n"
     ]
    }
   ],
   "source": [
    "#create data frame\n",
    "df=pd.read_csv('201501-citibike-tripdata.csv')\n",
    "print df.columns"
   ]
  },
  {
   "cell_type": "code",
   "execution_count": 16,
   "metadata": {
    "collapsed": false
   },
   "outputs": [
    {
     "name": "stdout",
     "output_type": "stream",
     "text": [
      "        tripduration  start station id  start station latitude  \\\n",
      "count  285552.000000     285552.000000           285552.000000   \n",
      "mean      654.325583        443.535006               40.735804   \n",
      "std       900.775928        332.580265                0.018773   \n",
      "min        60.000000         72.000000               40.680342   \n",
      "25%       334.000000        308.000000               40.723627   \n",
      "50%       504.000000        417.000000               40.738274   \n",
      "75%       772.000000        492.000000               40.750450   \n",
      "max     43023.000000       3002.000000               40.771522   \n",
      "\n",
      "       start station longitude  end station id  end station latitude  \\\n",
      "count            285552.000000   285552.000000         285552.000000   \n",
      "mean                -73.990177      440.337557             40.735607   \n",
      "std                   0.011681      326.010259              0.018718   \n",
      "min                 -74.017134       72.000000             40.680342   \n",
      "25%                 -73.998102      307.000000             40.723180   \n",
      "50%                 -73.990093      417.000000             40.737815   \n",
      "75%                 -73.981854      492.000000             40.750200   \n",
      "max                 -73.950048     3002.000000             40.771522   \n",
      "\n",
      "       end station longitude         bikeid     birth year         gender  \n",
      "count          285552.000000  285552.000000  279924.000000  285552.000000  \n",
      "mean              -73.990398   18147.291481    1974.951419       1.162485  \n",
      "std                 0.011742    2065.313794      11.574637       0.419490  \n",
      "min               -74.017134   14529.000000    1899.000000       0.000000  \n",
      "25%               -73.998522   16355.000000    1967.000000       1.000000  \n",
      "50%               -73.990617   18148.000000    1977.000000       1.000000  \n",
      "75%               -73.981854   19903.000000    1984.000000       1.000000  \n",
      "max               -73.950048   21690.000000    1999.000000       2.000000  \n"
     ]
    }
   ],
   "source": [
    "#understand the data content\n",
    "print df.describe()"
   ]
  },
  {
   "cell_type": "code",
   "execution_count": 17,
   "metadata": {
    "collapsed": true
   },
   "outputs": [],
   "source": [
    "#create dataframe for Male and Female ages \n",
    "df['ageM'] = 2015-df['birth year'][(df['usertype'] == 'Subscriber') & (df['gender'] == 1)]\n",
    "df['ageF'] = 2015-df['birth year'][(df['usertype'] == 'Subscriber') & (df['gender'] == 2)]"
   ]
  },
  {
   "cell_type": "code",
   "execution_count": 18,
   "metadata": {
    "collapsed": false
   },
   "outputs": [
    {
     "data": {
      "text/plain": [
       "<matplotlib.axes._subplots.AxesSubplot at 0x7e14a10>"
      ]
     },
     "execution_count": 18,
     "metadata": {},
     "output_type": "execute_result"
    },
    {
     "data": {
      "image/png": "[encoded data removed]",
      "text/plain": [
       "<matplotlib.figure.Figure at 0xc2d86f0>"
      ]
     },
     "metadata": {},
     "output_type": "display_data"
    },
    {
     "data": {
      "image/png": "[encoded data removed]",
      "text/plain": [
       "<matplotlib.figure.Figure at 0x7e148b0>"
      ]
     },
     "metadata": {},
     "output_type": "display_data"
    }
   ],
   "source": [
    "#put these dataframe in a range/bins 10 to 99 age with a 10 age interval and plot\n",
    "bins = np.arange(10, 99, 10)\n",
    "df.ageM.groupby(pd.cut(df.ageM, bins)).agg([count_nonzero]).plot(kind='bar')\n",
    "df.ageF.groupby(pd.cut(df.ageF, bins)).agg([count_nonzero]).plot(kind='bar')"
   ]
  },
  {
   "cell_type": "code",
   "execution_count": 19,
   "metadata": {
    "collapsed": false
   },
   "outputs": [
    {
     "name": "stdout",
     "output_type": "stream",
     "text": [
      "          count_nonzero\n",
      "ageM                   \n",
      "(10, 20]       0.001656\n",
      "(20, 30]       0.060938\n",
      "(30, 40]       0.052105\n",
      "(40, 50]       0.018598\n",
      "(50, 60]       0.010887\n",
      "(60, 70]       0.003129\n",
      "(70, 80]       0.000113\n",
      "(80, 90]       0.000000\n"
     ]
    },
    {
     "data": {
      "text/plain": [
       "<matplotlib.legend.Legend at 0x7c032d0>"
      ]
     },
     "execution_count": 19,
     "metadata": {},
     "output_type": "execute_result"
    },
    {
     "data": {
      "image/png": "[encoded data removed]",
      "text/plain": [
       "<matplotlib.figure.Figure at 0x8224630>"
      ]
     },
     "metadata": {},
     "output_type": "display_data"
    }
   ],
   "source": [
    "#create a cumulative distribution\n",
    "csM=df.ageM.groupby(pd.cut(df.ageM, bins)).agg([count_nonzero]).cumsum()\n",
    "\n",
    "csF=df.ageF.groupby(pd.cut(df.ageF, bins)).agg([count_nonzero]).cumsum()\n",
    "\n",
    "print np.abs(csM / csM.max()-csF / csF.max())\n",
    "\n",
    "pl.plot(bins[:-1] + 5, csM / csM.max(), label = \"M\")\n",
    "pl.plot(bins[:-1] + 5, csF / csF.max(), label = \"F\")\n",
    "pl.legend()"
   ]
  },
  {
   "cell_type": "markdown",
   "metadata": {},
   "source": [
    "#KS Test"
   ]
  },
  {
   "cell_type": "code",
   "execution_count": 20,
   "metadata": {
    "collapsed": true
   },
   "outputs": [],
   "source": [
    "import scipy.stats"
   ]
  },
  {
   "cell_type": "code",
   "execution_count": 21,
   "metadata": {
    "collapsed": false
   },
   "outputs": [],
   "source": [
    "ks=scipy.stats.ks_2samp(df.ageM, df.ageF)"
   ]
  },
  {
   "cell_type": "code",
   "execution_count": 22,
   "metadata": {
    "collapsed": false
   },
   "outputs": [
    {
     "name": "stdout",
     "output_type": "stream",
     "text": [
      "(0.61519793242561782, 0.0)\n"
     ]
    }
   ],
   "source": [
    "print ks"
   ]
  },
  {
   "cell_type": "markdown",
   "metadata": {
    "collapsed": true
   },
   "source": [
    "P-value is equal to 0 and it means that two sample do not come from the same parent distribution. Our test result is 0.61519793242561782 and this value smaller than the table value c(alpha) at 0.05 alpha value 1,36. As a result we reject the null hypothesis."
   ]
  },
  {
   "cell_type": "markdown",
   "metadata": {},
   "source": [
    "#Pearson Test"
   ]
  },
  {
   "cell_type": "code",
   "execution_count": 23,
   "metadata": {
    "collapsed": false
   },
   "outputs": [
    {
     "data": {
      "text/plain": [
       "(nan, 1.0)"
      ]
     },
     "execution_count": 23,
     "metadata": {},
     "output_type": "execute_result"
    }
   ],
   "source": [
    "scipy.stats.pearsonr(df.ageM, df.ageF)"
   ]
  },
  {
   "cell_type": "markdown",
   "metadata": {},
   "source": [
    "I get the pearson test value as Nan. Actually coefficient correlation should be between -1 and 1. So the value of the covariance is irrelevant. In the calculation process, pearson uses in the ratio part multiplicatio of the two std of the Male and Female age. One of them may be \"0\" for getting the result nan.\n"
   ]
  },
  {
   "cell_type": "markdown",
   "metadata": {},
   "source": [
    "#Spearman's test"
   ]
  },
  {
   "cell_type": "code",
   "execution_count": 24,
   "metadata": {
    "collapsed": false
   },
   "outputs": [
    {
     "data": {
      "text/plain": [
       "(-0.43552302983795976, 0.0)"
      ]
     },
     "execution_count": 24,
     "metadata": {},
     "output_type": "execute_result"
    }
   ],
   "source": [
    "scipy.stats.spearmanr(df.ageM, df.ageF, axis=0)"
   ]
  },
  {
   "cell_type": "markdown",
   "metadata": {},
   "source": [
    "\"Spearman correlation does not assume that both datasets are normally distributed\". It is the power of the spearman's test and value : -0,435... indicates that these two distribution are negatively correlated and when one group age increases other group age decreases as coefficient value: -0,435... O is the p-value and it indicates that \"he p-value roughly indicates the probability of an uncorrelated system producing datasets that have a Spearman correlation at least as extreme as the one computed from these datasets.\" Additionlly, p-value is regarded as when the sample size bigger than the 500 so it can be regarded as meaningful."
   ]
  },
  {
   "cell_type": "code",
   "execution_count": 25,
   "metadata": {
    "collapsed": false
   },
   "outputs": [
    {
     "name": "stdout",
     "output_type": "stream",
     "text": [
      "Populating the interactive namespace from numpy and matplotlib\n"
     ]
    }
   ],
   "source": [
    "#import reuqired libraries\n",
    "import pylab as pl\n",
    "import pandas as pd\n",
    "import numpy as np\n",
    "%pylab inline\n",
    "from datetime import datetime\n",
    "\n",
    "import os\n",
    "\n",
    "#create a dataframe for starttime and hour\n",
    "df['starttime'] = pd.to_datetime(df['starttime'])\n",
    "df['hour'] = df['starttime'].dt.hour\n"
   ]
  },
  {
   "cell_type": "code",
   "execution_count": 26,
   "metadata": {
    "collapsed": false
   },
   "outputs": [],
   "source": [
    "#create night and day age distriburtion. Night riders are defined as hour between 19-08. Day riders are defined as bewtween 08-19\n",
    "df['ageN'] = 2015-df['birth year'][(df['usertype'] == 'Subscriber') & (df['hour'] > 19) | (df['hour'] < 8 )]\n",
    "df['ageD'] = 2015-df['birth year'][(df['usertype'] == 'Subscriber') & ((df['hour'] <= 19) & (df['hour'] >= 8 ))]"
   ]
  },
  {
   "cell_type": "code",
   "execution_count": 27,
   "metadata": {
    "collapsed": false
   },
   "outputs": [
    {
     "data": {
      "text/plain": [
       "<matplotlib.axes._subplots.AxesSubplot at 0xc900b10>"
      ]
     },
     "execution_count": 27,
     "metadata": {},
     "output_type": "execute_result"
    },
    {
     "data": {
      "image/png": "[encoded data removed]",
      "text/plain": [
       "<matplotlib.figure.Figure at 0xc2d8850>"
      ]
     },
     "metadata": {},
     "output_type": "display_data"
    },
    {
     "data": {
      "image/png": "[encoded data removed]",
      "text/plain": [
       "<matplotlib.figure.Figure at 0xc8f6510>"
      ]
     },
     "metadata": {},
     "output_type": "display_data"
    }
   ],
   "source": [
    "bins = np.arange(10, 99, 10)\n",
    "df.ageN.groupby(pd.cut(df.ageN, bins)).agg([count_nonzero]).plot(kind='bar')\n",
    "df.ageD.groupby(pd.cut(df.ageD, bins)).agg([count_nonzero]).plot(kind='bar')"
   ]
  },
  {
   "cell_type": "code",
   "execution_count": 28,
   "metadata": {
    "collapsed": false
   },
   "outputs": [
    {
     "name": "stdout",
     "output_type": "stream",
     "text": [
      "          count_nonzero\n",
      "ageD                   \n",
      "(10, 20]       0.001198\n",
      "(20, 30]       0.043246\n",
      "(30, 40]       0.045248\n",
      "(40, 50]       0.024675\n",
      "(50, 60]       0.015570\n",
      "(60, 70]       0.003157\n",
      "(70, 80]       0.000051\n",
      "(80, 90]       0.000000\n"
     ]
    },
    {
     "data": {
      "text/plain": [
       "<matplotlib.legend.Legend at 0xc375a90>"
      ]
     },
     "execution_count": 28,
     "metadata": {},
     "output_type": "execute_result"
    },
    {
     "data": {
      "image/png": "[encoded data removed]",
      "text/plain": [
       "<matplotlib.figure.Figure at 0xc3d02d0>"
      ]
     },
     "metadata": {},
     "output_type": "display_data"
    }
   ],
   "source": [
    "#create a cumulative distribution\n",
    "\n",
    "csN=df.ageN.groupby(pd.cut(df.ageN, bins)).agg([count_nonzero]).cumsum()\n",
    "\n",
    "csD=df.ageD.groupby(pd.cut(df.ageD, bins)).agg([count_nonzero]).cumsum()\n",
    "\n",
    "print np.abs(csD / csD.max()-csN / csN.max())\n",
    "\n",
    "pl.plot(bins[:-1] + 5, csN / csN.max(), label = \"N\")\n",
    "pl.plot(bins[:-1] + 5, csD / csD.max(), label = \"D\")\n",
    "pl.legend()"
   ]
  },
  {
   "cell_type": "markdown",
   "metadata": {},
   "source": [
    "#KS Test"
   ]
  },
  {
   "cell_type": "code",
   "execution_count": 29,
   "metadata": {
    "collapsed": true
   },
   "outputs": [],
   "source": [
    "ks=scipy.stats.ks_2samp(df.ageN, df.ageD)"
   ]
  },
  {
   "cell_type": "code",
   "execution_count": 30,
   "metadata": {
    "collapsed": false
   },
   "outputs": [
    {
     "name": "stdout",
     "output_type": "stream",
     "text": [
      "(0.56210427522832973, 0.0)\n"
     ]
    }
   ],
   "source": [
    "print ks"
   ]
  },
  {
   "cell_type": "markdown",
   "metadata": {},
   "source": [
    "P-value is equal to 0 and it means that two sample do not come from the same parent distribution. Our test result is 0.5874.... and this value smaller than the table value c(alpha) at 0.05 alpha value 1,36. As a result we reject the null hypothesis"
   ]
  },
  {
   "cell_type": "markdown",
   "metadata": {},
   "source": [
    "#KS-2 Test"
   ]
  },
  {
   "cell_type": "code",
   "execution_count": 31,
   "metadata": {
    "collapsed": false
   },
   "outputs": [
    {
     "name": "stdout",
     "output_type": "stream",
     "text": [
      "(0.56210427522832973, 0.0)\n"
     ]
    }
   ],
   "source": [
    "ks2=scipy.stats.ks_2samp(df.ageN, df.ageD)\n",
    "\n",
    "print ks2 "
   ]
  },
  {
   "cell_type": "markdown",
   "metadata": {},
   "source": [
    "In KS Test the distribution accepted as continously distributed. On the contrary,  KS-2 test uses the  This test uses \"the two-sided asymptotic Kolmogorov-Smirnov distribution\".  We reject the null hypothesis that the two distribution are not same."
   ]
  },
  {
   "cell_type": "markdown",
   "metadata": {},
   "source": [
    "#Pearson's Test"
   ]
  },
  {
   "cell_type": "code",
   "execution_count": 32,
   "metadata": {
    "collapsed": false
   },
   "outputs": [
    {
     "name": "stdout",
     "output_type": "stream",
     "text": [
      "[ 46.  24.  17. ...,  31.  20.  63.]\n",
      "[ 31.  41.  50. ...,  26.  44.  34.]\n"
     ]
    }
   ],
   "source": [
    "ageD_arr = df.ageD\n",
    "ageN_arr = df.ageN\n",
    "\n",
    "\n",
    "ageD_arr = ageD_arr[~numpy.isnan(ageD_arr)]\n",
    "ageN_arr = ageN_arr[~numpy.isnan(ageN_arr)]\n",
    "\n",
    "ageD_arr = np.random.choice(ageD_arr,20000, replace=False)\n",
    "ageN_arr = np.random.choice(ageN_arr,20000, replace=False)\n",
    "\n",
    "print ageD_arr\n",
    "print ageN_arr"
   ]
  },
  {
   "cell_type": "code",
   "execution_count": 33,
   "metadata": {
    "collapsed": false
   },
   "outputs": [
    {
     "data": {
      "text/plain": [
       "(-0.010377903439017224, 0.14221155856098341)"
      ]
     },
     "execution_count": 33,
     "metadata": {},
     "output_type": "execute_result"
    }
   ],
   "source": [
    "scipy.stats.pearsonr (ageD_arr, ageN_arr)"
   ]
  },
  {
   "cell_type": "markdown",
   "metadata": {},
   "source": [
    "Test result shows us that these two distribuiton are nearly uncorrelated because correlation coefficient nearly 0. P-vaue is 1 indicates that \"probability of an uncorrelated system producing datasets that have a Pearson correlation at least as extreme as the one computed from these datasets. \""
   ]
  },
  {
   "cell_type": "code",
   "execution_count": 34,
   "metadata": {
    "collapsed": false
   },
   "outputs": [
    {
     "data": {
      "text/plain": [
       "(-0.0091163481529369858, 0.19733116282170973)"
      ]
     },
     "execution_count": 34,
     "metadata": {},
     "output_type": "execute_result"
    }
   ],
   "source": [
    "scipy.stats.spearmanr(ageD_arr, ageN_arr, axis=0)"
   ]
  },
  {
   "cell_type": "markdown",
   "metadata": {
    "collapsed": true
   },
   "source": [
    "It is the power of the spearman's test and value : 0,00331... indicates that these two distribution are nearly correlated. O,6 value is the p-value and it indicates that \"he p-value roughly indicates the probability of an uncorrelated system producing datasets that have a Spearman correlation at least as extreme as the one computed from these datasets.\" "
   ]
  }
 ],
 "metadata": {
  "kernelspec": {
   "display_name": "Python 2",
   "language": "python",
   "name": "python2"
  },
  "language_info": {
   "codemirror_mode": {
    "name": "ipython",
    "version": 2
   },
   "file_extension": ".py",
   "mimetype": "text/x-python",
   "name": "python",
   "nbconvert_exporter": "python",
   "pygments_lexer": "ipython2",
   "version": "2.7.10"
  }
 },
 "nbformat": 4,
 "nbformat_minor": 0
}
